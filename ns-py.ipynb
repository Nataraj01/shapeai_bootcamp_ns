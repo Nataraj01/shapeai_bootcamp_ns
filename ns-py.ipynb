import hashlib

hash_obj = hashlib.md5(b'Hello, Python!')

print(hash_obj.hexdigest())